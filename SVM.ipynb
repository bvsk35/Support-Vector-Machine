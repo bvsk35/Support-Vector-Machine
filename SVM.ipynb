{
 "cells": [
  {
   "cell_type": "code",
   "execution_count": 1,
   "metadata": {},
   "outputs": [
    {
     "data": {
      "text/plain": [
       "'\\nAuthor: Sameer\\nDate: 09/11/2018\\nRead Me:\\n1 - This code is for building a Gaussian Kernel (RBF) Support Vector Machine (SVM) and the optimization \\nproblem (Quadratic Programming) is solved using python cvxopt optimization toolbox.\\nPolynomial Kernel SVM can also be build using this code. \\n2 - Input Samples variable indicates total no. of points present in both Positive and Negative Classes\\nGaussian Standard Deviation is a free variable used in the Gaussian Kernel\\nOrder is a free variable used to control the order of the polynomial used in Polynomial Kernel\\nGrid Size is controls the number of points to be searched on 1x1 grid to generate decision boundaries\\n3 - Quadratic Optimization Problem:\\n        QP: Minimize- 1/2 * X.T * P * X + q.T * X\\n        ST: G * X <= h and A * X = b\\n    Matrices were selected based on above descritpion. But for the detailed description go through following link:\\n    http://cs229.stanford.edu/notes/cs229-notes3.pdf\\n4 - Solution for the QP problem will not be accurate i.e. lagrange mulitpliers will not be absolute zero, so I have\\nmade values below 1.0e-04 to be zero. For Non Support Vectors lagrange mulitpliers are zero and for Support Vector they are\\ngreater than zero.\\n5 - Postive Class is also represented by C_1 and Negative Class is also represented C_-1\\n'"
      ]
     },
     "execution_count": 1,
     "metadata": {},
     "output_type": "execute_result"
    }
   ],
   "source": [
    "'''\n",
    "Author: Sameer\n",
    "Date: 09/11/2018\n",
    "Read Me:\n",
    "1 - This code is for building a Gaussian Kernel (RBF) Support Vector Machine (SVM) and the optimization \n",
    "problem (Quadratic Programming) is solved using python cvxopt optimization toolbox.\n",
    "Polynomial Kernel SVM can also be build using this code. \n",
    "2 - Input Samples variable indicates total no. of points present in both Positive and Negative Classes\n",
    "Gaussian Standard Deviation is a free variable used in the Gaussian Kernel\n",
    "Order is a free variable used to control the order of the polynomial used in Polynomial Kernel\n",
    "Grid Size is controls the number of points to be searched on 1x1 grid to generate decision boundaries\n",
    "3 - Quadratic Optimization Problem:\n",
    "        QP: Minimize- 1/2 * X.T * P * X + q.T * X\n",
    "        ST: G * X <= h and A * X = b\n",
    "    Matrices were selected based on above descritpion. But for the detailed description go through following link:\n",
    "    http://cs229.stanford.edu/notes/cs229-notes3.pdf\n",
    "4 - Solution for the QP problem will not be accurate i.e. lagrange mulitpliers will not be absolute zero, so I have\n",
    "made values below 1.0e-04 to be zero. For Non Support Vectors lagrange mulitpliers are zero and for Support Vector they are\n",
    "greater than zero.\n",
    "5 - Postive Class is also represented by C_1 and Negative Class is also represented C_-1\n",
    "'''"
   ]
  },
  {
   "cell_type": "code",
   "execution_count": 2,
   "metadata": {},
   "outputs": [],
   "source": [
    "# Import Required Libraries\n",
    "import numpy\n",
    "import matplotlib.pyplot as plt\n",
    "import cvxopt"
   ]
  },
  {
   "cell_type": "code",
   "execution_count": 3,
   "metadata": {},
   "outputs": [],
   "source": [
    "# Parameters\n",
    "Input_Samples = 100\n",
    "Gaussian_Std_Deviation = 0.5 \n",
    "Order = 5\n",
    "grid_size = 500"
   ]
  },
  {
   "cell_type": "code",
   "execution_count": 4,
   "metadata": {},
   "outputs": [],
   "source": [
    "# Check if data exists. If yes load it otherwise create new data and store it in text file\n",
    "if numpy.DataSource().exists('InputPattern.txt'):\n",
    "    X = numpy.loadtxt('InputPattern.txt')\n",
    "else:\n",
    "    X = numpy.random.uniform(0, 1, (Input_Samples, 2))\n",
    "    numpy.savetxt('InputPattern.txt', X)"
   ]
  },
  {
   "cell_type": "code",
   "execution_count": 5,
   "metadata": {},
   "outputs": [],
   "source": [
    "# Create Desired Classification based on some conditions\n",
    "# Which will give a circle and sine wave boundary and points lying inside them will be positive class, egative otherwise\n",
    "D = numpy.array([])\n",
    "Pos_Class = numpy.array([[0, 0]])\n",
    "Neg_Class = numpy.array([[0, 0]])\n",
    "for i in range(0, Input_Samples):\n",
    "    if X[i, 1] < 0.2 * numpy.sin(10 * X[i, 0]) + 0.3 or numpy.square(X[i, 0] - 0.5) + numpy.square(X[i, 1] - 0.8) < numpy.square(0.15):\n",
    "        D = numpy.concatenate((D, [1]), axis=0)\n",
    "        Pos_Class = numpy.concatenate((Pos_Class, [X[i]]), axis=0)\n",
    "    else:\n",
    "        D = numpy.concatenate((D, [-1]), axis=0)\n",
    "        Neg_Class = numpy.concatenate((Neg_Class, [X[i]]), axis=0)"
   ]
  },
  {
   "cell_type": "code",
   "execution_count": 6,
   "metadata": {},
   "outputs": [
    {
     "data": {
      "image/png": "[encoded data removed]",
      "text/plain": [
       "<Figure size 432x288 with 1 Axes>"
      ]
     },
     "metadata": {
      "needs_background": "light"
     },
     "output_type": "display_data"
    }
   ],
   "source": [
    "# Plot Results\n",
    "plt.plot(Pos_Class[1:, 0], Pos_Class[1:, 1], 'b.', label=r'Class $C_1$')\n",
    "plt.plot(Neg_Class[1:, 0], Neg_Class[1:, 1], 'r.', label=r'Class $C_{-1}$')\n",
    "plt.show()"
   ]
  },
  {
   "cell_type": "code",
   "execution_count": 7,
   "metadata": {},
   "outputs": [],
   "source": [
    "# Required Functions\n",
    "def Gaussian_Kernel(X1, X2, sigma):\n",
    "    return numpy.exp(-numpy.square(numpy.linalg.norm(X1 - X2))/(2 * numpy.square(sigma)))\n",
    "def Polynomial_Kernel(X1, X2, order):\n",
    "    return (1 + numpy.dot(X1, X2))**order"
   ]
  },
  {
   "cell_type": "code",
   "execution_count": 8,
   "metadata": {},
   "outputs": [
    {
     "name": "stdout",
     "output_type": "stream",
     "text": [
      "     pcost       dcost       gap    pres   dres\n",
      " 0: -5.6916e+01 -1.6740e+02  1e+02  9e-16  3e+00\n",
      " 1: -1.0023e+02 -1.4141e+02  4e+01  3e-15  1e+00\n",
      " 2: -3.4382e+02 -3.9427e+02  5e+01  3e-14  1e+00\n",
      " 3: -5.2478e+02 -5.9208e+02  7e+01  2e-14  1e+00\n",
      " 4: -1.8508e+03 -2.0284e+03  2e+02  8e-14  1e+00\n",
      " 5: -4.2056e+03 -4.5401e+03  3e+02  2e-13  1e+00\n",
      " 6: -1.0996e+04 -1.1943e+04  9e+02  5e-13  1e+00\n",
      " 7: -2.5028e+04 -2.8114e+04  3e+03  3e-12  1e+00\n",
      " 8: -5.1677e+04 -6.1449e+04  1e+04  4e-12  9e-01\n",
      " 9: -8.8447e+04 -1.0922e+05  2e+04  5e-12  6e-01\n",
      "10: -1.0995e+05 -1.2477e+05  1e+04  2e-11  2e-01\n",
      "11: -1.1231e+05 -1.1308e+05  8e+02  3e-11  7e-03\n",
      "12: -1.1239e+05 -1.1241e+05  2e+01  1e-11  1e-04\n",
      "13: -1.1240e+05 -1.1240e+05  3e-01  1e-11  1e-06\n",
      "14: -1.1240e+05 -1.1240e+05  3e-03  2e-11  1e-08\n",
      "Optimal solution found.\n"
     ]
    }
   ],
   "source": [
    "# Optimization Problem - Quadratic Programming\n",
    "P = numpy.empty([Input_Samples, Input_Samples])\n",
    "for i in range(0, Input_Samples):\n",
    "    for j in range(0, Input_Samples):\n",
    "        P[i, j] = D[i] * D[j] * Gaussian_Kernel(X[i], X[j], Gaussian_Std_Deviation)\n",
    "#         P[i, j] = D[i] * D[j] * Polynomial_Kernel(X[i], X[j], Order)\n",
    "# Refer Documentation for Cvxopt Quadratic Programming for the meaning of the matrices\n",
    "P = cvxopt.matrix(P)        \n",
    "q = cvxopt.matrix(numpy.ones((Input_Samples), dtype='double') * -1)\n",
    "G = cvxopt.matrix(numpy.diag(numpy.ones((Input_Samples), dtype='double') * -1))\n",
    "h = cvxopt.matrix(numpy.zeros(Input_Samples))\n",
    "A = cvxopt.matrix(D, (1, Input_Samples))\n",
    "b = cvxopt.matrix(0.0)\n",
    "sol = cvxopt.solvers.qp(P, q, G, h, A, b)"
   ]
  },
  {
   "cell_type": "code",
   "execution_count": 9,
   "metadata": {
    "scrolled": false
   },
   "outputs": [],
   "source": [
    "# Solution:\n",
    "Alpha_Prime = numpy.ravel(numpy.array(sol['x']))\n",
    "Alpha = numpy.array([0 if i < 1.0e-04 else i for i in Alpha_Prime]) # Making alpha's perfectly zeroes\n",
    "SV_Pos_Class = numpy.array([[0, 0]]) # Support Vector for Positive Class\n",
    "SV_Neg_Class = numpy.array([[0, 0]]) # Support Vecotr for Negative Class\n",
    "SV_Label = numpy.array([]) # Labels for all Support Vectors, to decrease for loop time execution. \n",
    "for i in range(0, Input_Samples):\n",
    "    if Alpha[i] != 0:\n",
    "        if D[i] == 1:\n",
    "            SV_Pos_Class = numpy.concatenate((SV_Pos_Class, [X[i]]), axis=0)\n",
    "            SV_Label = numpy.concatenate((SV_Label, [i]), axis=0)\n",
    "        else:\n",
    "            SV_Neg_Class = numpy.concatenate((SV_Neg_Class, [X[i]]), axis=0)\n",
    "            SV_Label = numpy.concatenate((SV_Label, [i]), axis=0)\n",
    "for k in range(0, Input_Samples):\n",
    "    if Alpha[k] != 0:\n",
    "        W = 0\n",
    "        for i in numpy.nditer(SV_Label):\n",
    "            W = W + Alpha[int(i)] * D[int(i)] * Gaussian_Kernel(X[int(i)], X[k], Gaussian_Std_Deviation)\n",
    "#             W = W + Alpha[int(i)] * D[int(i)] * Polynomial_Kernel(X[int(i)], X[k], Order)\n",
    "        Theta = D[k] - W\n",
    "        break"
   ]
  },
  {
   "cell_type": "code",
   "execution_count": 10,
   "metadata": {},
   "outputs": [],
   "source": [
    "# Generate Boundary\n",
    "x_points = numpy.linspace(0.0, 1.0, grid_size)\n",
    "y_points = numpy.linspace(0.0, 1.0, grid_size)\n",
    "H = numpy.array([[0, 0]]) # Decision Boundary\n",
    "H_Plus = numpy.array([[0, 0]]) # Postivie Gutter\n",
    "H_Minus = numpy.array([[0, 0]]) # Negative Gutter\n",
    "for i in range(0, grid_size):\n",
    "    for j in range(0, grid_size):\n",
    "        Discriminant = 0\n",
    "        temp = numpy.array([x_points[i], y_points[j]])\n",
    "        for k in numpy.nditer(SV_Label):\n",
    "            Discriminant = Discriminant + Alpha[int(k)] * D[int(k)] * Gaussian_Kernel(X[int(k)], temp, Gaussian_Std_Deviation)\n",
    "#             Discriminant = Discriminant + Alpha[int(k)] * D[int(k)] * Polynomial_Kernel(X[int(k)], temp, Order)\n",
    "        Discriminant = Discriminant + Theta\n",
    "        if -0.1 < Discriminant < 0.1:\n",
    "            H = numpy.concatenate((H, [temp]), axis=0)\n",
    "        elif -1.1 < Discriminant < -0.9:\n",
    "            H_Minus = numpy.concatenate((H_Minus, [temp]), axis=0)\n",
    "        elif 0.9 < Discriminant < 1.1:\n",
    "            H_Plus = numpy.concatenate((H_Plus, [temp]), axis=0)"
   ]
  },
  {
   "cell_type": "code",
   "execution_count": 11,
   "metadata": {},
   "outputs": [
    {
     "data": {
      "image/png": "[encoded data removed]",
      "text/plain": [
       "<Figure size 432x288 with 1 Axes>"
      ]
     },
     "metadata": {
      "needs_background": "light"
     },
     "output_type": "display_data"
    }
   ],
   "source": [
    "# Plot Results\n",
    "plt.plot(Pos_Class[1:, 0], Pos_Class[1:, 1], 'b.', label=r'Class $C_1$')\n",
    "plt.plot(SV_Pos_Class[1:, 0], SV_Pos_Class[1:, 1], 'bd', label=r'$C_1$ Support Vectors')\n",
    "plt.plot(Neg_Class[1:, 0], Neg_Class[1:, 1], 'r.', label=r'Class $C_{-1}$')\n",
    "plt.plot(SV_Neg_Class[1:, 0], SV_Neg_Class[1:, 1], 'rd', label=r'$C_{-1}$ Support Vectors')\n",
    "plt.scatter(H[1:, 0], H[1:, 1], s=0.1, c='g', label='Decision Boundary')\n",
    "plt.scatter(H_Plus[1:, 0], H_Plus[1:, 1], s=0.1, c='b', label='Positive Gutter')\n",
    "plt.scatter(H_Minus[1:, 0], H_Minus[1:, 1], s=0.1, c='r', label='Negative Gutter')\n",
    "plt.xlabel(r'X Coordinate $\\rightarrow$')\n",
    "plt.ylabel(r'Y Coordinate $\\rightarrow$')\n",
    "plt.legend(loc='lower center', bbox_to_anchor=(0.5, 1), fancybox=True, shadow=True, ncol=3, borderpad=0.1, labelspacing=0.1)\n",
    "plt.tight_layout()\n",
    "plt.savefig('Results.pdf')\n",
    "plt.show()"
   ]
  }
 ],
 "metadata": {
  "kernelspec": {
   "display_name": "Python 3",
   "language": "python",
   "name": "python3"
  },
  "language_info": {
   "codemirror_mode": {
    "name": "ipython",
    "version": 3
   },
   "file_extension": ".py",
   "mimetype": "text/x-python",
   "name": "python",
   "nbconvert_exporter": "python",
   "pygments_lexer": "ipython3",
   "version": "3.7.0"
  }
 },
 "nbformat": 4,
 "nbformat_minor": 2
}
